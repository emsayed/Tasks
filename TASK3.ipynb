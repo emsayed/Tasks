{
 "cells": [
  {
   "cell_type": "code",
   "execution_count": 2,
   "metadata": {},
   "outputs": [
    {
     "name": "stdout",
     "output_type": "stream",
     "text": [
      "\n",
      "* \n",
      "* * \n",
      "* * * \n",
      "* * * * \n",
      "* * * * * \n",
      "* * * * \n",
      "* * * \n",
      "* * \n",
      "* \n"
     ]
    }
   ],
   "source": [
    "# pattern from * using a nested for loop.\n",
    "\n",
    "X=5;\n",
    "for Y in range(X):\n",
    "    for j in range(Y):\n",
    "        print ('* ', end=\"\")\n",
    "    print('')\n",
    "\n",
    "for Y in range(X,0,-1):\n",
    "    for j in range(Y):\n",
    "        print('* ', end=\"\")\n",
    "    print('')"
   ]
  }
 ],
 "metadata": {
  "kernelspec": {
   "display_name": "Python 3.10.6 64-bit",
   "language": "python",
   "name": "python3"
  },
  "language_info": {
   "codemirror_mode": {
    "name": "ipython",
    "version": 3
   },
   "file_extension": ".py",
   "mimetype": "text/x-python",
   "name": "python",
   "nbconvert_exporter": "python",
   "pygments_lexer": "ipython3",
   "version": "3.10.6"
  },
  "orig_nbformat": 4,
  "vscode": {
   "interpreter": {
    "hash": "17d3ef3cf556e9c013198b93018754f7700973ed6de64fee213ed88e54d39166"
   }
  }
 },
 "nbformat": 4,
 "nbformat_minor": 2
}
