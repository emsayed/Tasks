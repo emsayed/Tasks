{
 "cells": [
  {
   "cell_type": "code",
   "execution_count": 6,
   "metadata": {},
   "outputs": [
    {
     "name": "stdout",
     "output_type": "stream",
     "text": [
      "1505  /  1540  /  1575  /  1610  /  1645  /  1680  /  1715  /  1750  /  1785  /  1820  /  1855  /  1890  /  1925  /  1960  /  1995  /  2030  /  2065  /  2100  /  2135  /  2170  /  2205  /  2240  /  2275  /  2310  /  2345  /  2380  /  2415  /  2450  /  2485  /  2520  /  2555  /  2590  /  2625  /  2660  /  2695\n"
     ]
    }
   ],
   "source": [
    "Y=[]\n",
    "for x in range(1500, 2701):\n",
    "    if (x%7==0) and (x%5==0):\n",
    "        Y.append(str(x))\n",
    "print ('''  /  '''.join(Y))"
   ]
  }
 ],
 "metadata": {
  "kernelspec": {
   "display_name": "Python 3.10.6 64-bit",
   "language": "python",
   "name": "python3"
  },
  "language_info": {
   "codemirror_mode": {
    "name": "ipython",
    "version": 3
   },
   "file_extension": ".py",
   "mimetype": "text/x-python",
   "name": "python",
   "nbconvert_exporter": "python",
   "pygments_lexer": "ipython3",
   "version": "3.10.6"
  },
  "orig_nbformat": 4,
  "vscode": {
   "interpreter": {
    "hash": "17d3ef3cf556e9c013198b93018754f7700973ed6de64fee213ed88e54d39166"
   }
  }
 },
 "nbformat": 4,
 "nbformat_minor": 2
}
